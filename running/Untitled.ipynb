{
 "cells": [
  {
   "cell_type": "code",
   "execution_count": 6,
   "metadata": {},
   "outputs": [],
   "source": [
    "def aaadef(a):\n",
    "    return a * 2"
   ]
  },
  {
   "cell_type": "code",
   "execution_count": 22,
   "metadata": {},
   "outputs": [
    {
     "data": {
      "text/plain": [
       "'2-1'"
      ]
     },
     "execution_count": 22,
     "metadata": {},
     "output_type": "execute_result"
    }
   ],
   "source": [
    "dict1 = {'運動賽事': '2-1'}\n",
    "# 讀取本地檔案，並轉譯成消息\n",
    "replyJsonPath = dict1.get('運動賽事')\n",
    "replyJsonPath"
   ]
  },
  {
   "cell_type": "code",
   "execution_count": 20,
   "metadata": {},
   "outputs": [
    {
     "name": "stdout",
     "output_type": "stream",
     "text": [
      "tag=run:east\n",
      "query_string_dict {'tag': ['run:east']}\n"
     ]
    }
   ],
   "source": [
    "from urllib.parse import parse_qs \n",
    "data = \"tag=run:east\"\n",
    "query_string_dict = parse_qs(data)  # 將字串結果依照特定符號條件轉換成字典\n",
    "print(data)\n",
    "print('query_string_dict',query_string_dict)\n"
   ]
  },
  {
   "cell_type": "code",
   "execution_count": 12,
   "metadata": {},
   "outputs": [
    {
     "data": {
      "text/plain": [
       "4"
      ]
     },
     "execution_count": 12,
     "metadata": {},
     "output_type": "execute_result"
    }
   ],
   "source": [
    "aaa = {'aaa':{'sss':aaadef(0)}}\n",
    "aaa['aaa']['sss'] = aaadef(2)\n",
    "aaa['aaa']['sss']"
   ]
  },
  {
   "cell_type": "code",
   "execution_count": 18,
   "metadata": {},
   "outputs": [
    {
     "data": {
      "text/plain": [
       "{'type': 'template',\n",
       " 'altText': 'this is a carousel template',\n",
       " 'template': {'type': 'carousel',\n",
       "  'actions': [],\n",
       "  'columns': [{'thumbnailImageUrl': 'https://www.lnka.tw/images/article/20171021071354671.jpg',\n",
       "    'title': '商賈之勢',\n",
       "    'text': 13213131,\n",
       "    'actions': [{'type': 'postback',\n",
       "      'label': '工作有相關',\n",
       "      'text': '收到反饋',\n",
       "      'data': 'tag=business'},\n",
       "     {'type': 'postback',\n",
       "      'label': '工作沒相關',\n",
       "      'text': '收到反饋',\n",
       "      'data': 'tag=not_business'}]},\n",
       "   {'thumbnailImageUrl': 'https://cdn-static.tibame.com/resize/entity-course/37/c2095c7f-d3b6-4955-9f7c-96b1fabecc75_AWS_2x.png',\n",
       "    'title': 'AWS 雲服務 大幅擴張影響力',\n",
       "    'text': '工具與思維密不可分，共享經濟思維的崛起，重新打造了一套本地與公有雲之間的合作共生新機會',\n",
       "    'actions': [{'type': 'postback',\n",
       "      'label': '工作有相關',\n",
       "      'text': '收到反饋',\n",
       "      'data': 'tag=cloud'},\n",
       "     {'type': 'postback',\n",
       "      'label': '工作沒相關',\n",
       "      'text': '收到反饋',\n",
       "      'data': 'tag=not_cloud'}]},\n",
       "   {'thumbnailImageUrl': 'https://cdn-static.tibame.com/resize/course/185/coverPic/ae318ab9-ba0b-47bc-b4cf-d117ce62917a_CT1705001_2x.jpg',\n",
       "    'title': 'Blockchain 資訊共享的新媒介',\n",
       "    'text': '資料分析的戰略價值，衍伸了一系列新資料的需求，共享資料的商機越來越濃厚。',\n",
       "    'actions': [{'type': 'postback',\n",
       "      'label': '工作有相關',\n",
       "      'text': '收到反饋',\n",
       "      'data': 'tag=blockchain'},\n",
       "     {'type': 'postback',\n",
       "      'label': '工作沒相關',\n",
       "      'text': '收到反饋',\n",
       "      'data': 'tag=not_blockchain'}]},\n",
       "   {'thumbnailImageUrl': 'https://cdn-static.tibame.com/resize/entity-course/11/eeba1bb7-dc69-4a62-919f-cb3890368ca0_linebot_2x.png',\n",
       "    'title': 'Chatbot 新型資訊獲取管道',\n",
       "    'text': '「這個世界是不會變的。」- 陳可辛，報紙與網頁本質上都是一種資訊獲取方式，Chatbot也是這樣的，不過他夠新。',\n",
       "    'actions': [{'type': 'postback',\n",
       "      'label': '工作有相關',\n",
       "      'text': '收到反饋',\n",
       "      'data': 'tag=chatbot'},\n",
       "     {'type': 'postback',\n",
       "      'label': '工作沒相關',\n",
       "      'text': '收到反饋',\n",
       "      'data': 'tag=not_chatbot'}]},\n",
       "   {'thumbnailImageUrl': 'https://cdn-images-1.medium.com/max/2600/1*EBXc9eJ1YRFLtkNI_djaAw.png',\n",
       "    'title': 'DevOps 加速產品面市',\n",
       "    'text': '市場是個最大的實驗環境，要判斷功能的商業價值，最好的辦法就是快速丟到市場上，快速驗證，快速修改。',\n",
       "    'actions': [{'type': 'postback',\n",
       "      'label': '工作有相關',\n",
       "      'text': '收到反饋',\n",
       "      'data': 'tag=devops'},\n",
       "     {'type': 'postback',\n",
       "      'label': '工作沒相關',\n",
       "      'text': '收到反饋',\n",
       "      'data': 'tag=not_devops'}]}]}}"
      ]
     },
     "execution_count": 18,
     "metadata": {},
     "output_type": "execute_result"
    }
   ],
   "source": [
    "json1['template']['columns'][0]['text'] = 13213131\n",
    "json1"
   ]
  },
  {
   "cell_type": "code",
   "execution_count": 13,
   "metadata": {},
   "outputs": [],
   "source": [
    "json1 = {\n",
    "    \"type\": \"template\",\n",
    "    \"altText\": \"this is a carousel template\",\n",
    "    \"template\": {\n",
    "        \"type\": \"carousel\",\n",
    "        \"actions\": [],\n",
    "        \"columns\": [\n",
    "          {\n",
    "            \"thumbnailImageUrl\": \"https://www.lnka.tw/images/article/20171021071354671.jpg\",\n",
    "            \"title\": \"商賈之勢\",\n",
    "            \"text\": \"舊版三國之中，諸葛亮有云，帥者三等，以人為兵，以物為兵，以不兵為兵。\",\n",
    "            \"actions\": [\n",
    "              {\n",
    "                \"type\": \"postback\",\n",
    "                \"label\": \"工作有相關\",\n",
    "                \"text\": \"收到反饋\",\n",
    "                \"data\": \"tag=business\"\n",
    "              },\n",
    "              {\n",
    "                \"type\": \"postback\",\n",
    "                \"label\": \"工作沒相關\",\n",
    "                \"text\": \"收到反饋\",\n",
    "                \"data\": \"tag=not_business\"\n",
    "              }\n",
    "            ]\n",
    "          },\n",
    "          {\n",
    "            \"thumbnailImageUrl\": \"https://cdn-static.tibame.com/resize/entity-course/37/c2095c7f-d3b6-4955-9f7c-96b1fabecc75_AWS_2x.png\",\n",
    "            \"title\": \"AWS 雲服務 大幅擴張影響力\",\n",
    "            \"text\": \"工具與思維密不可分，共享經濟思維的崛起，重新打造了一套本地與公有雲之間的合作共生新機會\",\n",
    "            \"actions\": [\n",
    "              {\n",
    "                \"type\": \"postback\",\n",
    "                \"label\": \"工作有相關\",\n",
    "                \"text\": \"收到反饋\",\n",
    "                \"data\": \"tag=cloud\"\n",
    "              },\n",
    "              {\n",
    "                \"type\": \"postback\",\n",
    "                \"label\": \"工作沒相關\",\n",
    "                \"text\": \"收到反饋\",\n",
    "                \"data\": \"tag=not_cloud\"\n",
    "              }\n",
    "            ]\n",
    "          },\n",
    "          {\n",
    "            \"thumbnailImageUrl\": \"https://cdn-static.tibame.com/resize/course/185/coverPic/ae318ab9-ba0b-47bc-b4cf-d117ce62917a_CT1705001_2x.jpg\",\n",
    "            \"title\": \"Blockchain 資訊共享的新媒介\",\n",
    "            \"text\": \"資料分析的戰略價值，衍伸了一系列新資料的需求，共享資料的商機越來越濃厚。\",\n",
    "            \"actions\": [\n",
    "              {\n",
    "                \"type\": \"postback\",\n",
    "                \"label\": \"工作有相關\",\n",
    "                \"text\": \"收到反饋\",\n",
    "                \"data\": \"tag=blockchain\"\n",
    "              },\n",
    "              {\n",
    "                \"type\": \"postback\",\n",
    "                \"label\": \"工作沒相關\",\n",
    "                \"text\": \"收到反饋\",\n",
    "                \"data\": \"tag=not_blockchain\"\n",
    "              }\n",
    "            ]\n",
    "          },\n",
    "          {\n",
    "            \"thumbnailImageUrl\": \"https://cdn-static.tibame.com/resize/entity-course/11/eeba1bb7-dc69-4a62-919f-cb3890368ca0_linebot_2x.png\",\n",
    "            \"title\": \"Chatbot 新型資訊獲取管道\",\n",
    "            \"text\": \"「這個世界是不會變的。」- 陳可辛，報紙與網頁本質上都是一種資訊獲取方式，Chatbot也是這樣的，不過他夠新。\",\n",
    "            \"actions\": [\n",
    "              {\n",
    "                \"type\": \"postback\",\n",
    "                \"label\": \"工作有相關\",\n",
    "                \"text\": \"收到反饋\",\n",
    "                \"data\": \"tag=chatbot\"\n",
    "              },\n",
    "              {\n",
    "                \"type\": \"postback\",\n",
    "                \"label\": \"工作沒相關\",\n",
    "                \"text\": \"收到反饋\",\n",
    "                \"data\": \"tag=not_chatbot\"\n",
    "              }\n",
    "            ]\n",
    "          },\n",
    "          {\n",
    "            \"thumbnailImageUrl\": \"https://cdn-images-1.medium.com/max/2600/1*EBXc9eJ1YRFLtkNI_djaAw.png\",\n",
    "            \"title\": \"DevOps 加速產品面市\",\n",
    "            \"text\": \"市場是個最大的實驗環境，要判斷功能的商業價值，最好的辦法就是快速丟到市場上，快速驗證，快速修改。\",\n",
    "            \"actions\": [\n",
    "              {\n",
    "                \"type\": \"postback\",\n",
    "                \"label\": \"工作有相關\",\n",
    "                \"text\": \"收到反饋\",\n",
    "                \"data\": \"tag=devops\"\n",
    "              },\n",
    "              {\n",
    "                \"type\": \"postback\",\n",
    "                \"label\": \"工作沒相關\",\n",
    "                \"text\": \"收到反饋\",\n",
    "                \"data\": \"tag=not_devops\"\n",
    "              }\n",
    "            ]\n",
    "          }\n",
    "        ]\n",
    "      }\n",
    "    }\n"
   ]
  },
  {
   "cell_type": "code",
   "execution_count": 30,
   "metadata": {},
   "outputs": [
    {
     "data": {
      "text/plain": [
       "[{'altText': 'this is a carousel template',\n",
       "  'template': {'columns': [{'actions': [{'label': '活動網址',\n",
       "       'type': 'uri',\n",
       "       'uri': 'https://bao-ming.com/eb/www/activity_content.php?activitysn=4070&contentsn=20328'},\n",
       "      {'label': '報名連結',\n",
       "       'type': 'uri',\n",
       "       'uri': 'https://bao-ming.com/eb/www/reg.php?activitysn=4070'}],\n",
       "     'text': '復仇者聯盟路跑活動',\n",
       "     'thumbnailImageUrl': 'https://i.imgur.com/2hYqSLd.png',\n",
       "     'title': '賽事1'},\n",
       "    {'actions': [{'label': '活動網址', 'text': '活動網址', 'type': 'message'},\n",
       "      {'label': '報名連結', 'text': '騙你的', 'type': 'message'}],\n",
       "     'text': '路跑活動',\n",
       "     'thumbnailImageUrl': 'https://i.imgur.com/2hYqSLd.png',\n",
       "     'title': '賽事2'},\n",
       "    {'actions': [{'label': '動作 1', 'text': '動作 1', 'type': 'message'},\n",
       "      {'label': '動作 2', 'text': '動作 2', 'type': 'message'}],\n",
       "     'text': '文字',\n",
       "     'thumbnailImageUrl': 'https://i.imgur.com/2hYqSLd.png',\n",
       "     'title': '標題'}],\n",
       "   'type': 'carousel'},\n",
       "  'type': 'template'}]"
      ]
     },
     "execution_count": 30,
     "metadata": {},
     "output_type": "execute_result"
    }
   ],
   "source": [
    "json[0]['template']['columns'][1]['actions'][1]['text'] = '騙你的'\n",
    "json"
   ]
  },
  {
   "cell_type": "code",
   "execution_count": 29,
   "metadata": {},
   "outputs": [],
   "source": [
    "json = [{\"altText\": \"this is a carousel template\",\n",
    "  \"template\": {\"columns\": [{\"actions\": [{\"label\": \"\\u6d3b\\u52d5\\u7db2\\u5740\",\n",
    "                                         \"type\": \"uri\", \n",
    "                                         \"uri\": \"https://bao-ming.com/eb/www/activity_content.php?activitysn=4070&contentsn=20328\"},\n",
    "                                        {\"label\": \"\\u5831\\u540d\\u9023\\u7d50\", \n",
    "                                         \"type\": \"uri\",\n",
    "                                         \"uri\": \"https://bao-ming.com/eb/www/reg.php?activitysn=4070\"}],\n",
    "                            \"text\": \"\\u5fa9\\u4ec7\\u8005\\u806f\\u76df\\u8def\\u8dd1\\u6d3b\\u52d5\", \n",
    "                            \"thumbnailImageUrl\": \"https://i.imgur.com/2hYqSLd.png\",\n",
    "                            \"title\": \"\\u8cfd\\u4e8b1\"}, \n",
    "                           {\"actions\": [{\"label\": \"\\u6d3b\\u52d5\\u7db2\\u5740\",\n",
    "                                         \"text\": \"\\u6d3b\\u52d5\\u7db2\\u5740\",\n",
    "                                         \"type\": \"message\"}, \n",
    "                                        {\"label\": \"\\u5831\\u540d\\u9023\\u7d50\",\n",
    "                                         \"text\": \"\\u5831\\u540d\\u9023\\u7d50\", \n",
    "                                         \"type\": \"message\"}],\n",
    "                            \"text\": \"\\u8def\\u8dd1\\u6d3b\\u52d5\", \n",
    "                            \"thumbnailImageUrl\": \"https://i.imgur.com/2hYqSLd.png\", \n",
    "                            \"title\": \"\\u8cfd\\u4e8b2\"},\n",
    "                           {\"actions\": [{\"label\": \"\\u52d5\\u4f5c 1\", \n",
    "                                         \"text\": \"\\u52d5\\u4f5c 1\", \n",
    "                                         \"type\": \"message\"}, {\"label\": \"\\u52d5\\u4f5c 2\",\n",
    "                                                              \"text\": \"\\u52d5\\u4f5c 2\",\n",
    "                                                              \"type\": \"message\"}], \n",
    "                            \"text\": \"\\u6587\\u5b57\", \n",
    "                            \"thumbnailImageUrl\": \"https://i.imgur.com/2hYqSLd.png\", \n",
    "                            \"title\": \"\\u6a19\\u984c\"}],\n",
    "               \"type\": \"carousel\"}, \n",
    "  \"type\": \"template\"}]"
   ]
  }
 ],
 "metadata": {
  "kernelspec": {
   "display_name": "Python 3",
   "language": "python",
   "name": "python3"
  },
  "language_info": {
   "codemirror_mode": {
    "name": "ipython",
    "version": 3
   },
   "file_extension": ".py",
   "mimetype": "text/x-python",
   "name": "python",
   "nbconvert_exporter": "python",
   "pygments_lexer": "ipython3",
   "version": "3.7.3"
  }
 },
 "nbformat": 4,
 "nbformat_minor": 2
}
